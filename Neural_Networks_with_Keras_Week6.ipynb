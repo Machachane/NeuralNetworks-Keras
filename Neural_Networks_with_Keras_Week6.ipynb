{
  "nbformat": 4,
  "nbformat_minor": 0,
  "metadata": {
    "colab": {
      "provenance": [],
      "collapsed_sections": []
    },
    "kernelspec": {
      "name": "python3",
      "display_name": "Python 3"
    },
    "language_info": {
      "name": "python"
    },
    "accelerator": "GPU"
  },
  "cells": [
    {
      "cell_type": "code",
      "execution_count": 5,
      "metadata": {
        "id": "TgCyp2yyJ0T5"
      },
      "outputs": [],
      "source": [
        "import numpy as np \n",
        "import pandas as pd \n",
        "import matplotlib.pyplot as plt \n",
        "import tensorflow as tf \n",
        "import seaborn as sns \n",
        "from sklearn.preprocessing import StandardScaler \n",
        "from sklearn.model_selection import train_test_split"
      ]
    },
    {
      "cell_type": "code",
      "source": [
        "cardio_data = pd.read_csv('Cardiotocographic.csv') \n",
        "cardio_data.head()"
      ],
      "metadata": {
        "colab": {
          "base_uri": "https://localhost:8080/",
          "height": 206
        },
        "id": "jtaU_gMYMPql",
        "outputId": "ea7cff1f-8a8f-497b-d37a-00128d5b5be4"
      },
      "execution_count": 7,
      "outputs": [
        {
          "output_type": "execute_result",
          "data": {
            "text/plain": [
              "   BPM       APC  FMPS      UCPS      DLPS  SDPS  PDPS  ASTV  MSTV  ALTV  \\\n",
              "0  120  0.000000   0.0  0.000000  0.000000   0.0   0.0    73   0.5    43   \n",
              "1  132  0.006380   0.0  0.006380  0.003190   0.0   0.0    17   2.1     0   \n",
              "2  133  0.003322   0.0  0.008306  0.003322   0.0   0.0    16   2.1     0   \n",
              "3  134  0.002561   0.0  0.007682  0.002561   0.0   0.0    16   2.4     0   \n",
              "4  132  0.006515   0.0  0.008143  0.000000   0.0   0.0    16   2.4     0   \n",
              "\n",
              "   MLTV  Width  Min  Max  NSP  \n",
              "0   2.4     64   62  126    2  \n",
              "1  10.4    130   68  198    1  \n",
              "2  13.4    130   68  198    1  \n",
              "3  23.0    117   53  170    1  \n",
              "4  19.9    117   53  170    1  "
            ],
            "text/html": [
              "\n",
              "  <div id=\"df-d0fde1e7-0c84-4509-a57f-ba31a4552bba\">\n",
              "    <div class=\"colab-df-container\">\n",
              "      <div>\n",
              "<style scoped>\n",
              "    .dataframe tbody tr th:only-of-type {\n",
              "        vertical-align: middle;\n",
              "    }\n",
              "\n",
              "    .dataframe tbody tr th {\n",
              "        vertical-align: top;\n",
              "    }\n",
              "\n",
              "    .dataframe thead th {\n",
              "        text-align: right;\n",
              "    }\n",
              "</style>\n",
              "<table border=\"1\" class=\"dataframe\">\n",
              "  <thead>\n",
              "    <tr style=\"text-align: right;\">\n",
              "      <th></th>\n",
              "      <th>BPM</th>\n",
              "      <th>APC</th>\n",
              "      <th>FMPS</th>\n",
              "      <th>UCPS</th>\n",
              "      <th>DLPS</th>\n",
              "      <th>SDPS</th>\n",
              "      <th>PDPS</th>\n",
              "      <th>ASTV</th>\n",
              "      <th>MSTV</th>\n",
              "      <th>ALTV</th>\n",
              "      <th>MLTV</th>\n",
              "      <th>Width</th>\n",
              "      <th>Min</th>\n",
              "      <th>Max</th>\n",
              "      <th>NSP</th>\n",
              "    </tr>\n",
              "  </thead>\n",
              "  <tbody>\n",
              "    <tr>\n",
              "      <th>0</th>\n",
              "      <td>120</td>\n",
              "      <td>0.000000</td>\n",
              "      <td>0.0</td>\n",
              "      <td>0.000000</td>\n",
              "      <td>0.000000</td>\n",
              "      <td>0.0</td>\n",
              "      <td>0.0</td>\n",
              "      <td>73</td>\n",
              "      <td>0.5</td>\n",
              "      <td>43</td>\n",
              "      <td>2.4</td>\n",
              "      <td>64</td>\n",
              "      <td>62</td>\n",
              "      <td>126</td>\n",
              "      <td>2</td>\n",
              "    </tr>\n",
              "    <tr>\n",
              "      <th>1</th>\n",
              "      <td>132</td>\n",
              "      <td>0.006380</td>\n",
              "      <td>0.0</td>\n",
              "      <td>0.006380</td>\n",
              "      <td>0.003190</td>\n",
              "      <td>0.0</td>\n",
              "      <td>0.0</td>\n",
              "      <td>17</td>\n",
              "      <td>2.1</td>\n",
              "      <td>0</td>\n",
              "      <td>10.4</td>\n",
              "      <td>130</td>\n",
              "      <td>68</td>\n",
              "      <td>198</td>\n",
              "      <td>1</td>\n",
              "    </tr>\n",
              "    <tr>\n",
              "      <th>2</th>\n",
              "      <td>133</td>\n",
              "      <td>0.003322</td>\n",
              "      <td>0.0</td>\n",
              "      <td>0.008306</td>\n",
              "      <td>0.003322</td>\n",
              "      <td>0.0</td>\n",
              "      <td>0.0</td>\n",
              "      <td>16</td>\n",
              "      <td>2.1</td>\n",
              "      <td>0</td>\n",
              "      <td>13.4</td>\n",
              "      <td>130</td>\n",
              "      <td>68</td>\n",
              "      <td>198</td>\n",
              "      <td>1</td>\n",
              "    </tr>\n",
              "    <tr>\n",
              "      <th>3</th>\n",
              "      <td>134</td>\n",
              "      <td>0.002561</td>\n",
              "      <td>0.0</td>\n",
              "      <td>0.007682</td>\n",
              "      <td>0.002561</td>\n",
              "      <td>0.0</td>\n",
              "      <td>0.0</td>\n",
              "      <td>16</td>\n",
              "      <td>2.4</td>\n",
              "      <td>0</td>\n",
              "      <td>23.0</td>\n",
              "      <td>117</td>\n",
              "      <td>53</td>\n",
              "      <td>170</td>\n",
              "      <td>1</td>\n",
              "    </tr>\n",
              "    <tr>\n",
              "      <th>4</th>\n",
              "      <td>132</td>\n",
              "      <td>0.006515</td>\n",
              "      <td>0.0</td>\n",
              "      <td>0.008143</td>\n",
              "      <td>0.000000</td>\n",
              "      <td>0.0</td>\n",
              "      <td>0.0</td>\n",
              "      <td>16</td>\n",
              "      <td>2.4</td>\n",
              "      <td>0</td>\n",
              "      <td>19.9</td>\n",
              "      <td>117</td>\n",
              "      <td>53</td>\n",
              "      <td>170</td>\n",
              "      <td>1</td>\n",
              "    </tr>\n",
              "  </tbody>\n",
              "</table>\n",
              "</div>\n",
              "      <button class=\"colab-df-convert\" onclick=\"convertToInteractive('df-d0fde1e7-0c84-4509-a57f-ba31a4552bba')\"\n",
              "              title=\"Convert this dataframe to an interactive table.\"\n",
              "              style=\"display:none;\">\n",
              "        \n",
              "  <svg xmlns=\"http://www.w3.org/2000/svg\" height=\"24px\"viewBox=\"0 0 24 24\"\n",
              "       width=\"24px\">\n",
              "    <path d=\"M0 0h24v24H0V0z\" fill=\"none\"/>\n",
              "    <path d=\"M18.56 5.44l.94 2.06.94-2.06 2.06-.94-2.06-.94-.94-2.06-.94 2.06-2.06.94zm-11 1L8.5 8.5l.94-2.06 2.06-.94-2.06-.94L8.5 2.5l-.94 2.06-2.06.94zm10 10l.94 2.06.94-2.06 2.06-.94-2.06-.94-.94-2.06-.94 2.06-2.06.94z\"/><path d=\"M17.41 7.96l-1.37-1.37c-.4-.4-.92-.59-1.43-.59-.52 0-1.04.2-1.43.59L10.3 9.45l-7.72 7.72c-.78.78-.78 2.05 0 2.83L4 21.41c.39.39.9.59 1.41.59.51 0 1.02-.2 1.41-.59l7.78-7.78 2.81-2.81c.8-.78.8-2.07 0-2.86zM5.41 20L4 18.59l7.72-7.72 1.47 1.35L5.41 20z\"/>\n",
              "  </svg>\n",
              "      </button>\n",
              "      \n",
              "  <style>\n",
              "    .colab-df-container {\n",
              "      display:flex;\n",
              "      flex-wrap:wrap;\n",
              "      gap: 12px;\n",
              "    }\n",
              "\n",
              "    .colab-df-convert {\n",
              "      background-color: #E8F0FE;\n",
              "      border: none;\n",
              "      border-radius: 50%;\n",
              "      cursor: pointer;\n",
              "      display: none;\n",
              "      fill: #1967D2;\n",
              "      height: 32px;\n",
              "      padding: 0 0 0 0;\n",
              "      width: 32px;\n",
              "    }\n",
              "\n",
              "    .colab-df-convert:hover {\n",
              "      background-color: #E2EBFA;\n",
              "      box-shadow: 0px 1px 2px rgba(60, 64, 67, 0.3), 0px 1px 3px 1px rgba(60, 64, 67, 0.15);\n",
              "      fill: #174EA6;\n",
              "    }\n",
              "\n",
              "    [theme=dark] .colab-df-convert {\n",
              "      background-color: #3B4455;\n",
              "      fill: #D2E3FC;\n",
              "    }\n",
              "\n",
              "    [theme=dark] .colab-df-convert:hover {\n",
              "      background-color: #434B5C;\n",
              "      box-shadow: 0px 1px 3px 1px rgba(0, 0, 0, 0.15);\n",
              "      filter: drop-shadow(0px 1px 2px rgba(0, 0, 0, 0.3));\n",
              "      fill: #FFFFFF;\n",
              "    }\n",
              "  </style>\n",
              "\n",
              "      <script>\n",
              "        const buttonEl =\n",
              "          document.querySelector('#df-d0fde1e7-0c84-4509-a57f-ba31a4552bba button.colab-df-convert');\n",
              "        buttonEl.style.display =\n",
              "          google.colab.kernel.accessAllowed ? 'block' : 'none';\n",
              "\n",
              "        async function convertToInteractive(key) {\n",
              "          const element = document.querySelector('#df-d0fde1e7-0c84-4509-a57f-ba31a4552bba');\n",
              "          const dataTable =\n",
              "            await google.colab.kernel.invokeFunction('convertToInteractive',\n",
              "                                                     [key], {});\n",
              "          if (!dataTable) return;\n",
              "\n",
              "          const docLinkHtml = 'Like what you see? Visit the ' +\n",
              "            '<a target=\"_blank\" href=https://colab.research.google.com/notebooks/data_table.ipynb>data table notebook</a>'\n",
              "            + ' to learn more about interactive tables.';\n",
              "          element.innerHTML = '';\n",
              "          dataTable['output_type'] = 'display_data';\n",
              "          await google.colab.output.renderOutput(dataTable, element);\n",
              "          const docLink = document.createElement('div');\n",
              "          docLink.innerHTML = docLinkHtml;\n",
              "          element.appendChild(docLink);\n",
              "        }\n",
              "      </script>\n",
              "    </div>\n",
              "  </div>\n",
              "  "
            ]
          },
          "metadata": {},
          "execution_count": 7
        }
      ]
    },
    {
      "cell_type": "code",
      "source": [
        "cardio_data.tail()"
      ],
      "metadata": {
        "colab": {
          "base_uri": "https://localhost:8080/",
          "height": 206
        },
        "id": "6YyTcq1BMbzh",
        "outputId": "f248e762-6fa4-4e6e-edf7-5d165ea66bcc"
      },
      "execution_count": 8,
      "outputs": [
        {
          "output_type": "execute_result",
          "data": {
            "text/plain": [
              "      BPM       APC      FMPS      UCPS  DLPS  SDPS  PDPS  ASTV  MSTV  ALTV  \\\n",
              "2121  140  0.000000  0.000000  0.007426   0.0   0.0   0.0    79   0.2    25   \n",
              "2122  140  0.000775  0.000000  0.006971   0.0   0.0   0.0    78   0.4    22   \n",
              "2123  140  0.000980  0.000000  0.006863   0.0   0.0   0.0    79   0.4    20   \n",
              "2124  140  0.000679  0.000000  0.006110   0.0   0.0   0.0    78   0.4    27   \n",
              "2125  142  0.001616  0.001616  0.008078   0.0   0.0   0.0    74   0.4    36   \n",
              "\n",
              "      MLTV  Width  Min  Max  NSP  \n",
              "2121   7.2     40  137  177    2  \n",
              "2122   7.1     66  103  169    2  \n",
              "2123   6.1     67  103  170    2  \n",
              "2124   7.0     66  103  169    2  \n",
              "2125   5.0     42  117  159    1  "
            ],
            "text/html": [
              "\n",
              "  <div id=\"df-d2c94919-830d-482e-b29a-6add0e684329\">\n",
              "    <div class=\"colab-df-container\">\n",
              "      <div>\n",
              "<style scoped>\n",
              "    .dataframe tbody tr th:only-of-type {\n",
              "        vertical-align: middle;\n",
              "    }\n",
              "\n",
              "    .dataframe tbody tr th {\n",
              "        vertical-align: top;\n",
              "    }\n",
              "\n",
              "    .dataframe thead th {\n",
              "        text-align: right;\n",
              "    }\n",
              "</style>\n",
              "<table border=\"1\" class=\"dataframe\">\n",
              "  <thead>\n",
              "    <tr style=\"text-align: right;\">\n",
              "      <th></th>\n",
              "      <th>BPM</th>\n",
              "      <th>APC</th>\n",
              "      <th>FMPS</th>\n",
              "      <th>UCPS</th>\n",
              "      <th>DLPS</th>\n",
              "      <th>SDPS</th>\n",
              "      <th>PDPS</th>\n",
              "      <th>ASTV</th>\n",
              "      <th>MSTV</th>\n",
              "      <th>ALTV</th>\n",
              "      <th>MLTV</th>\n",
              "      <th>Width</th>\n",
              "      <th>Min</th>\n",
              "      <th>Max</th>\n",
              "      <th>NSP</th>\n",
              "    </tr>\n",
              "  </thead>\n",
              "  <tbody>\n",
              "    <tr>\n",
              "      <th>2121</th>\n",
              "      <td>140</td>\n",
              "      <td>0.000000</td>\n",
              "      <td>0.000000</td>\n",
              "      <td>0.007426</td>\n",
              "      <td>0.0</td>\n",
              "      <td>0.0</td>\n",
              "      <td>0.0</td>\n",
              "      <td>79</td>\n",
              "      <td>0.2</td>\n",
              "      <td>25</td>\n",
              "      <td>7.2</td>\n",
              "      <td>40</td>\n",
              "      <td>137</td>\n",
              "      <td>177</td>\n",
              "      <td>2</td>\n",
              "    </tr>\n",
              "    <tr>\n",
              "      <th>2122</th>\n",
              "      <td>140</td>\n",
              "      <td>0.000775</td>\n",
              "      <td>0.000000</td>\n",
              "      <td>0.006971</td>\n",
              "      <td>0.0</td>\n",
              "      <td>0.0</td>\n",
              "      <td>0.0</td>\n",
              "      <td>78</td>\n",
              "      <td>0.4</td>\n",
              "      <td>22</td>\n",
              "      <td>7.1</td>\n",
              "      <td>66</td>\n",
              "      <td>103</td>\n",
              "      <td>169</td>\n",
              "      <td>2</td>\n",
              "    </tr>\n",
              "    <tr>\n",
              "      <th>2123</th>\n",
              "      <td>140</td>\n",
              "      <td>0.000980</td>\n",
              "      <td>0.000000</td>\n",
              "      <td>0.006863</td>\n",
              "      <td>0.0</td>\n",
              "      <td>0.0</td>\n",
              "      <td>0.0</td>\n",
              "      <td>79</td>\n",
              "      <td>0.4</td>\n",
              "      <td>20</td>\n",
              "      <td>6.1</td>\n",
              "      <td>67</td>\n",
              "      <td>103</td>\n",
              "      <td>170</td>\n",
              "      <td>2</td>\n",
              "    </tr>\n",
              "    <tr>\n",
              "      <th>2124</th>\n",
              "      <td>140</td>\n",
              "      <td>0.000679</td>\n",
              "      <td>0.000000</td>\n",
              "      <td>0.006110</td>\n",
              "      <td>0.0</td>\n",
              "      <td>0.0</td>\n",
              "      <td>0.0</td>\n",
              "      <td>78</td>\n",
              "      <td>0.4</td>\n",
              "      <td>27</td>\n",
              "      <td>7.0</td>\n",
              "      <td>66</td>\n",
              "      <td>103</td>\n",
              "      <td>169</td>\n",
              "      <td>2</td>\n",
              "    </tr>\n",
              "    <tr>\n",
              "      <th>2125</th>\n",
              "      <td>142</td>\n",
              "      <td>0.001616</td>\n",
              "      <td>0.001616</td>\n",
              "      <td>0.008078</td>\n",
              "      <td>0.0</td>\n",
              "      <td>0.0</td>\n",
              "      <td>0.0</td>\n",
              "      <td>74</td>\n",
              "      <td>0.4</td>\n",
              "      <td>36</td>\n",
              "      <td>5.0</td>\n",
              "      <td>42</td>\n",
              "      <td>117</td>\n",
              "      <td>159</td>\n",
              "      <td>1</td>\n",
              "    </tr>\n",
              "  </tbody>\n",
              "</table>\n",
              "</div>\n",
              "      <button class=\"colab-df-convert\" onclick=\"convertToInteractive('df-d2c94919-830d-482e-b29a-6add0e684329')\"\n",
              "              title=\"Convert this dataframe to an interactive table.\"\n",
              "              style=\"display:none;\">\n",
              "        \n",
              "  <svg xmlns=\"http://www.w3.org/2000/svg\" height=\"24px\"viewBox=\"0 0 24 24\"\n",
              "       width=\"24px\">\n",
              "    <path d=\"M0 0h24v24H0V0z\" fill=\"none\"/>\n",
              "    <path d=\"M18.56 5.44l.94 2.06.94-2.06 2.06-.94-2.06-.94-.94-2.06-.94 2.06-2.06.94zm-11 1L8.5 8.5l.94-2.06 2.06-.94-2.06-.94L8.5 2.5l-.94 2.06-2.06.94zm10 10l.94 2.06.94-2.06 2.06-.94-2.06-.94-.94-2.06-.94 2.06-2.06.94z\"/><path d=\"M17.41 7.96l-1.37-1.37c-.4-.4-.92-.59-1.43-.59-.52 0-1.04.2-1.43.59L10.3 9.45l-7.72 7.72c-.78.78-.78 2.05 0 2.83L4 21.41c.39.39.9.59 1.41.59.51 0 1.02-.2 1.41-.59l7.78-7.78 2.81-2.81c.8-.78.8-2.07 0-2.86zM5.41 20L4 18.59l7.72-7.72 1.47 1.35L5.41 20z\"/>\n",
              "  </svg>\n",
              "      </button>\n",
              "      \n",
              "  <style>\n",
              "    .colab-df-container {\n",
              "      display:flex;\n",
              "      flex-wrap:wrap;\n",
              "      gap: 12px;\n",
              "    }\n",
              "\n",
              "    .colab-df-convert {\n",
              "      background-color: #E8F0FE;\n",
              "      border: none;\n",
              "      border-radius: 50%;\n",
              "      cursor: pointer;\n",
              "      display: none;\n",
              "      fill: #1967D2;\n",
              "      height: 32px;\n",
              "      padding: 0 0 0 0;\n",
              "      width: 32px;\n",
              "    }\n",
              "\n",
              "    .colab-df-convert:hover {\n",
              "      background-color: #E2EBFA;\n",
              "      box-shadow: 0px 1px 2px rgba(60, 64, 67, 0.3), 0px 1px 3px 1px rgba(60, 64, 67, 0.15);\n",
              "      fill: #174EA6;\n",
              "    }\n",
              "\n",
              "    [theme=dark] .colab-df-convert {\n",
              "      background-color: #3B4455;\n",
              "      fill: #D2E3FC;\n",
              "    }\n",
              "\n",
              "    [theme=dark] .colab-df-convert:hover {\n",
              "      background-color: #434B5C;\n",
              "      box-shadow: 0px 1px 3px 1px rgba(0, 0, 0, 0.15);\n",
              "      filter: drop-shadow(0px 1px 2px rgba(0, 0, 0, 0.3));\n",
              "      fill: #FFFFFF;\n",
              "    }\n",
              "  </style>\n",
              "\n",
              "      <script>\n",
              "        const buttonEl =\n",
              "          document.querySelector('#df-d2c94919-830d-482e-b29a-6add0e684329 button.colab-df-convert');\n",
              "        buttonEl.style.display =\n",
              "          google.colab.kernel.accessAllowed ? 'block' : 'none';\n",
              "\n",
              "        async function convertToInteractive(key) {\n",
              "          const element = document.querySelector('#df-d2c94919-830d-482e-b29a-6add0e684329');\n",
              "          const dataTable =\n",
              "            await google.colab.kernel.invokeFunction('convertToInteractive',\n",
              "                                                     [key], {});\n",
              "          if (!dataTable) return;\n",
              "\n",
              "          const docLinkHtml = 'Like what you see? Visit the ' +\n",
              "            '<a target=\"_blank\" href=https://colab.research.google.com/notebooks/data_table.ipynb>data table notebook</a>'\n",
              "            + ' to learn more about interactive tables.';\n",
              "          element.innerHTML = '';\n",
              "          dataTable['output_type'] = 'display_data';\n",
              "          await google.colab.output.renderOutput(dataTable, element);\n",
              "          const docLink = document.createElement('div');\n",
              "          docLink.innerHTML = docLinkHtml;\n",
              "          element.appendChild(docLink);\n",
              "        }\n",
              "      </script>\n",
              "    </div>\n",
              "  </div>\n",
              "  "
            ]
          },
          "metadata": {},
          "execution_count": 8
        }
      ]
    },
    {
      "cell_type": "code",
      "source": [
        "cardio_data.describe()"
      ],
      "metadata": {
        "colab": {
          "base_uri": "https://localhost:8080/",
          "height": 364
        },
        "id": "YeJa-vVsMkgb",
        "outputId": "be485d68-32fa-4618-cacd-4e237e497a7b"
      },
      "execution_count": 9,
      "outputs": [
        {
          "output_type": "execute_result",
          "data": {
            "text/plain": [
              "               BPM          APC         FMPS         UCPS         DLPS  \\\n",
              "count  2126.000000  2126.000000  2126.000000  2126.000000  2126.000000   \n",
              "mean    133.303857     0.003170     0.009474     0.004357     0.001885   \n",
              "std       9.840844     0.003860     0.046670     0.002940     0.002962   \n",
              "min     106.000000     0.000000     0.000000     0.000000     0.000000   \n",
              "25%     126.000000     0.000000     0.000000     0.001876     0.000000   \n",
              "50%     133.000000     0.001630     0.000000     0.004482     0.000000   \n",
              "75%     140.000000     0.005631     0.002512     0.006525     0.003264   \n",
              "max     160.000000     0.019284     0.480634     0.014925     0.015385   \n",
              "\n",
              "              SDPS         PDPS         ASTV         MSTV        ALTV  \\\n",
              "count  2126.000000  2126.000000  2126.000000  2126.000000  2126.00000   \n",
              "mean      0.000004     0.000157    46.990122     1.332785     9.84666   \n",
              "std       0.000063     0.000580    17.192814     0.883241    18.39688   \n",
              "min       0.000000     0.000000    12.000000     0.200000     0.00000   \n",
              "25%       0.000000     0.000000    32.000000     0.700000     0.00000   \n",
              "50%       0.000000     0.000000    49.000000     1.200000     0.00000   \n",
              "75%       0.000000     0.000000    61.000000     1.700000    11.00000   \n",
              "max       0.001353     0.005348    87.000000     7.000000    91.00000   \n",
              "\n",
              "              MLTV        Width          Min          Max          NSP  \n",
              "count  2126.000000  2126.000000  2126.000000  2126.000000  2126.000000  \n",
              "mean      8.187629    70.445908    93.579492   164.025400     1.304327  \n",
              "std       5.628247    38.955693    29.560212    17.944183     0.614377  \n",
              "min       0.000000     3.000000    50.000000   122.000000     1.000000  \n",
              "25%       4.600000    37.000000    67.000000   152.000000     1.000000  \n",
              "50%       7.400000    67.500000    93.000000   162.000000     1.000000  \n",
              "75%      10.800000   100.000000   120.000000   174.000000     1.000000  \n",
              "max      50.700000   180.000000   159.000000   238.000000     3.000000  "
            ],
            "text/html": [
              "\n",
              "  <div id=\"df-cb04085a-4314-4925-b165-9dd83af1c148\">\n",
              "    <div class=\"colab-df-container\">\n",
              "      <div>\n",
              "<style scoped>\n",
              "    .dataframe tbody tr th:only-of-type {\n",
              "        vertical-align: middle;\n",
              "    }\n",
              "\n",
              "    .dataframe tbody tr th {\n",
              "        vertical-align: top;\n",
              "    }\n",
              "\n",
              "    .dataframe thead th {\n",
              "        text-align: right;\n",
              "    }\n",
              "</style>\n",
              "<table border=\"1\" class=\"dataframe\">\n",
              "  <thead>\n",
              "    <tr style=\"text-align: right;\">\n",
              "      <th></th>\n",
              "      <th>BPM</th>\n",
              "      <th>APC</th>\n",
              "      <th>FMPS</th>\n",
              "      <th>UCPS</th>\n",
              "      <th>DLPS</th>\n",
              "      <th>SDPS</th>\n",
              "      <th>PDPS</th>\n",
              "      <th>ASTV</th>\n",
              "      <th>MSTV</th>\n",
              "      <th>ALTV</th>\n",
              "      <th>MLTV</th>\n",
              "      <th>Width</th>\n",
              "      <th>Min</th>\n",
              "      <th>Max</th>\n",
              "      <th>NSP</th>\n",
              "    </tr>\n",
              "  </thead>\n",
              "  <tbody>\n",
              "    <tr>\n",
              "      <th>count</th>\n",
              "      <td>2126.000000</td>\n",
              "      <td>2126.000000</td>\n",
              "      <td>2126.000000</td>\n",
              "      <td>2126.000000</td>\n",
              "      <td>2126.000000</td>\n",
              "      <td>2126.000000</td>\n",
              "      <td>2126.000000</td>\n",
              "      <td>2126.000000</td>\n",
              "      <td>2126.000000</td>\n",
              "      <td>2126.00000</td>\n",
              "      <td>2126.000000</td>\n",
              "      <td>2126.000000</td>\n",
              "      <td>2126.000000</td>\n",
              "      <td>2126.000000</td>\n",
              "      <td>2126.000000</td>\n",
              "    </tr>\n",
              "    <tr>\n",
              "      <th>mean</th>\n",
              "      <td>133.303857</td>\n",
              "      <td>0.003170</td>\n",
              "      <td>0.009474</td>\n",
              "      <td>0.004357</td>\n",
              "      <td>0.001885</td>\n",
              "      <td>0.000004</td>\n",
              "      <td>0.000157</td>\n",
              "      <td>46.990122</td>\n",
              "      <td>1.332785</td>\n",
              "      <td>9.84666</td>\n",
              "      <td>8.187629</td>\n",
              "      <td>70.445908</td>\n",
              "      <td>93.579492</td>\n",
              "      <td>164.025400</td>\n",
              "      <td>1.304327</td>\n",
              "    </tr>\n",
              "    <tr>\n",
              "      <th>std</th>\n",
              "      <td>9.840844</td>\n",
              "      <td>0.003860</td>\n",
              "      <td>0.046670</td>\n",
              "      <td>0.002940</td>\n",
              "      <td>0.002962</td>\n",
              "      <td>0.000063</td>\n",
              "      <td>0.000580</td>\n",
              "      <td>17.192814</td>\n",
              "      <td>0.883241</td>\n",
              "      <td>18.39688</td>\n",
              "      <td>5.628247</td>\n",
              "      <td>38.955693</td>\n",
              "      <td>29.560212</td>\n",
              "      <td>17.944183</td>\n",
              "      <td>0.614377</td>\n",
              "    </tr>\n",
              "    <tr>\n",
              "      <th>min</th>\n",
              "      <td>106.000000</td>\n",
              "      <td>0.000000</td>\n",
              "      <td>0.000000</td>\n",
              "      <td>0.000000</td>\n",
              "      <td>0.000000</td>\n",
              "      <td>0.000000</td>\n",
              "      <td>0.000000</td>\n",
              "      <td>12.000000</td>\n",
              "      <td>0.200000</td>\n",
              "      <td>0.00000</td>\n",
              "      <td>0.000000</td>\n",
              "      <td>3.000000</td>\n",
              "      <td>50.000000</td>\n",
              "      <td>122.000000</td>\n",
              "      <td>1.000000</td>\n",
              "    </tr>\n",
              "    <tr>\n",
              "      <th>25%</th>\n",
              "      <td>126.000000</td>\n",
              "      <td>0.000000</td>\n",
              "      <td>0.000000</td>\n",
              "      <td>0.001876</td>\n",
              "      <td>0.000000</td>\n",
              "      <td>0.000000</td>\n",
              "      <td>0.000000</td>\n",
              "      <td>32.000000</td>\n",
              "      <td>0.700000</td>\n",
              "      <td>0.00000</td>\n",
              "      <td>4.600000</td>\n",
              "      <td>37.000000</td>\n",
              "      <td>67.000000</td>\n",
              "      <td>152.000000</td>\n",
              "      <td>1.000000</td>\n",
              "    </tr>\n",
              "    <tr>\n",
              "      <th>50%</th>\n",
              "      <td>133.000000</td>\n",
              "      <td>0.001630</td>\n",
              "      <td>0.000000</td>\n",
              "      <td>0.004482</td>\n",
              "      <td>0.000000</td>\n",
              "      <td>0.000000</td>\n",
              "      <td>0.000000</td>\n",
              "      <td>49.000000</td>\n",
              "      <td>1.200000</td>\n",
              "      <td>0.00000</td>\n",
              "      <td>7.400000</td>\n",
              "      <td>67.500000</td>\n",
              "      <td>93.000000</td>\n",
              "      <td>162.000000</td>\n",
              "      <td>1.000000</td>\n",
              "    </tr>\n",
              "    <tr>\n",
              "      <th>75%</th>\n",
              "      <td>140.000000</td>\n",
              "      <td>0.005631</td>\n",
              "      <td>0.002512</td>\n",
              "      <td>0.006525</td>\n",
              "      <td>0.003264</td>\n",
              "      <td>0.000000</td>\n",
              "      <td>0.000000</td>\n",
              "      <td>61.000000</td>\n",
              "      <td>1.700000</td>\n",
              "      <td>11.00000</td>\n",
              "      <td>10.800000</td>\n",
              "      <td>100.000000</td>\n",
              "      <td>120.000000</td>\n",
              "      <td>174.000000</td>\n",
              "      <td>1.000000</td>\n",
              "    </tr>\n",
              "    <tr>\n",
              "      <th>max</th>\n",
              "      <td>160.000000</td>\n",
              "      <td>0.019284</td>\n",
              "      <td>0.480634</td>\n",
              "      <td>0.014925</td>\n",
              "      <td>0.015385</td>\n",
              "      <td>0.001353</td>\n",
              "      <td>0.005348</td>\n",
              "      <td>87.000000</td>\n",
              "      <td>7.000000</td>\n",
              "      <td>91.00000</td>\n",
              "      <td>50.700000</td>\n",
              "      <td>180.000000</td>\n",
              "      <td>159.000000</td>\n",
              "      <td>238.000000</td>\n",
              "      <td>3.000000</td>\n",
              "    </tr>\n",
              "  </tbody>\n",
              "</table>\n",
              "</div>\n",
              "      <button class=\"colab-df-convert\" onclick=\"convertToInteractive('df-cb04085a-4314-4925-b165-9dd83af1c148')\"\n",
              "              title=\"Convert this dataframe to an interactive table.\"\n",
              "              style=\"display:none;\">\n",
              "        \n",
              "  <svg xmlns=\"http://www.w3.org/2000/svg\" height=\"24px\"viewBox=\"0 0 24 24\"\n",
              "       width=\"24px\">\n",
              "    <path d=\"M0 0h24v24H0V0z\" fill=\"none\"/>\n",
              "    <path d=\"M18.56 5.44l.94 2.06.94-2.06 2.06-.94-2.06-.94-.94-2.06-.94 2.06-2.06.94zm-11 1L8.5 8.5l.94-2.06 2.06-.94-2.06-.94L8.5 2.5l-.94 2.06-2.06.94zm10 10l.94 2.06.94-2.06 2.06-.94-2.06-.94-.94-2.06-.94 2.06-2.06.94z\"/><path d=\"M17.41 7.96l-1.37-1.37c-.4-.4-.92-.59-1.43-.59-.52 0-1.04.2-1.43.59L10.3 9.45l-7.72 7.72c-.78.78-.78 2.05 0 2.83L4 21.41c.39.39.9.59 1.41.59.51 0 1.02-.2 1.41-.59l7.78-7.78 2.81-2.81c.8-.78.8-2.07 0-2.86zM5.41 20L4 18.59l7.72-7.72 1.47 1.35L5.41 20z\"/>\n",
              "  </svg>\n",
              "      </button>\n",
              "      \n",
              "  <style>\n",
              "    .colab-df-container {\n",
              "      display:flex;\n",
              "      flex-wrap:wrap;\n",
              "      gap: 12px;\n",
              "    }\n",
              "\n",
              "    .colab-df-convert {\n",
              "      background-color: #E8F0FE;\n",
              "      border: none;\n",
              "      border-radius: 50%;\n",
              "      cursor: pointer;\n",
              "      display: none;\n",
              "      fill: #1967D2;\n",
              "      height: 32px;\n",
              "      padding: 0 0 0 0;\n",
              "      width: 32px;\n",
              "    }\n",
              "\n",
              "    .colab-df-convert:hover {\n",
              "      background-color: #E2EBFA;\n",
              "      box-shadow: 0px 1px 2px rgba(60, 64, 67, 0.3), 0px 1px 3px 1px rgba(60, 64, 67, 0.15);\n",
              "      fill: #174EA6;\n",
              "    }\n",
              "\n",
              "    [theme=dark] .colab-df-convert {\n",
              "      background-color: #3B4455;\n",
              "      fill: #D2E3FC;\n",
              "    }\n",
              "\n",
              "    [theme=dark] .colab-df-convert:hover {\n",
              "      background-color: #434B5C;\n",
              "      box-shadow: 0px 1px 3px 1px rgba(0, 0, 0, 0.15);\n",
              "      filter: drop-shadow(0px 1px 2px rgba(0, 0, 0, 0.3));\n",
              "      fill: #FFFFFF;\n",
              "    }\n",
              "  </style>\n",
              "\n",
              "      <script>\n",
              "        const buttonEl =\n",
              "          document.querySelector('#df-cb04085a-4314-4925-b165-9dd83af1c148 button.colab-df-convert');\n",
              "        buttonEl.style.display =\n",
              "          google.colab.kernel.accessAllowed ? 'block' : 'none';\n",
              "\n",
              "        async function convertToInteractive(key) {\n",
              "          const element = document.querySelector('#df-cb04085a-4314-4925-b165-9dd83af1c148');\n",
              "          const dataTable =\n",
              "            await google.colab.kernel.invokeFunction('convertToInteractive',\n",
              "                                                     [key], {});\n",
              "          if (!dataTable) return;\n",
              "\n",
              "          const docLinkHtml = 'Like what you see? Visit the ' +\n",
              "            '<a target=\"_blank\" href=https://colab.research.google.com/notebooks/data_table.ipynb>data table notebook</a>'\n",
              "            + ' to learn more about interactive tables.';\n",
              "          element.innerHTML = '';\n",
              "          dataTable['output_type'] = 'display_data';\n",
              "          await google.colab.output.renderOutput(dataTable, element);\n",
              "          const docLink = document.createElement('div');\n",
              "          docLink.innerHTML = docLinkHtml;\n",
              "          element.appendChild(docLink);\n",
              "        }\n",
              "      </script>\n",
              "    </div>\n",
              "  </div>\n",
              "  "
            ]
          },
          "metadata": {},
          "execution_count": 9
        }
      ]
    },
    {
      "cell_type": "code",
      "source": [
        "cardio_data.info()"
      ],
      "metadata": {
        "colab": {
          "base_uri": "https://localhost:8080/"
        },
        "id": "tH6-SLD2Mqcz",
        "outputId": "0d4d62a5-b7bf-4f71-c90f-0ddf9662572b"
      },
      "execution_count": 10,
      "outputs": [
        {
          "output_type": "stream",
          "name": "stdout",
          "text": [
            "<class 'pandas.core.frame.DataFrame'>\n",
            "RangeIndex: 2126 entries, 0 to 2125\n",
            "Data columns (total 15 columns):\n",
            " #   Column  Non-Null Count  Dtype  \n",
            "---  ------  --------------  -----  \n",
            " 0   BPM     2126 non-null   int64  \n",
            " 1   APC     2126 non-null   float64\n",
            " 2   FMPS    2126 non-null   float64\n",
            " 3   UCPS    2126 non-null   float64\n",
            " 4   DLPS    2126 non-null   float64\n",
            " 5   SDPS    2126 non-null   float64\n",
            " 6   PDPS    2126 non-null   float64\n",
            " 7   ASTV    2126 non-null   int64  \n",
            " 8   MSTV    2126 non-null   float64\n",
            " 9   ALTV    2126 non-null   int64  \n",
            " 10  MLTV    2126 non-null   float64\n",
            " 11  Width   2126 non-null   int64  \n",
            " 12  Min     2126 non-null   int64  \n",
            " 13  Max     2126 non-null   int64  \n",
            " 14  NSP     2126 non-null   int64  \n",
            "dtypes: float64(8), int64(7)\n",
            "memory usage: 249.3 KB\n"
          ]
        }
      ]
    },
    {
      "cell_type": "code",
      "source": [
        "cardio_data.shape"
      ],
      "metadata": {
        "colab": {
          "base_uri": "https://localhost:8080/"
        },
        "id": "WST8A1FeMvkU",
        "outputId": "b18bcc89-337d-4197-8456-b6c6c74ea1f6"
      },
      "execution_count": 11,
      "outputs": [
        {
          "output_type": "execute_result",
          "data": {
            "text/plain": [
              "(2126, 15)"
            ]
          },
          "metadata": {},
          "execution_count": 11
        }
      ]
    },
    {
      "cell_type": "code",
      "source": [
        "cardio_data['NSP'].value_counts()"
      ],
      "metadata": {
        "colab": {
          "base_uri": "https://localhost:8080/"
        },
        "id": "Wwu1QpktMyaL",
        "outputId": "bf2aea52-1d63-4fbb-9515-ff2122e7a767"
      },
      "execution_count": 12,
      "outputs": [
        {
          "output_type": "execute_result",
          "data": {
            "text/plain": [
              "1    1655\n",
              "2     295\n",
              "3     176\n",
              "Name: NSP, dtype: int64"
            ]
          },
          "metadata": {},
          "execution_count": 12
        }
      ]
    },
    {
      "cell_type": "code",
      "source": [
        "sns.countplot(cardio_data['NSP'])"
      ],
      "metadata": {
        "colab": {
          "base_uri": "https://localhost:8080/",
          "height": 351
        },
        "id": "j7zywJOHM41B",
        "outputId": "18b48138-d369-4a0d-b63b-0483f101b137"
      },
      "execution_count": 13,
      "outputs": [
        {
          "output_type": "stream",
          "name": "stderr",
          "text": [
            "/usr/local/lib/python3.7/dist-packages/seaborn/_decorators.py:43: FutureWarning: Pass the following variable as a keyword arg: x. From version 0.12, the only valid positional argument will be `data`, and passing other arguments without an explicit keyword will result in an error or misinterpretation.\n",
            "  FutureWarning\n"
          ]
        },
        {
          "output_type": "execute_result",
          "data": {
            "text/plain": [
              "<matplotlib.axes._subplots.AxesSubplot at 0x7f2c2383f950>"
            ]
          },
          "metadata": {},
          "execution_count": 13
        },
        {
          "output_type": "display_data",
          "data": {
            "text/plain": [
              "<Figure size 432x288 with 1 Axes>"
            ],
            "image/png": "[encoded data removed]"
          },
          "metadata": {
            "needs_background": "light"
          }
        }
      ]
    },
    {
      "cell_type": "code",
      "source": [
        "X = cardio_data.drop('NSP',axis=1) \n",
        "y = cardio_data['NSP'] -1 \n",
        "\n",
        "X_train, X_test, y_train, y_test = train_test_split(X, y, test_size = 0.2, stratify=y, random_state=99) \n",
        "\n",
        "scaler = StandardScaler() \n",
        "X_train = scaler.fit_transform(X_train) \n",
        "X_test = scaler.transform(X_test)"
      ],
      "metadata": {
        "id": "KQZb_ZgsNC5G"
      },
      "execution_count": 14,
      "outputs": []
    },
    {
      "cell_type": "code",
      "source": [
        "model = tf.keras.models.Sequential()\n",
        "model.add(tf.keras.layers.Dense(8,activation='relu',input_shape=(14,))) \n",
        "model.add(tf.keras.layers.Dense(3,activation='softmax'))"
      ],
      "metadata": {
        "id": "z_2-706yNSdO"
      },
      "execution_count": 15,
      "outputs": []
    },
    {
      "cell_type": "code",
      "source": [
        "model.compile(optimizer='adam', loss='sparse_categorical_crossentropy', metrics='accuracy')"
      ],
      "metadata": {
        "id": "OX5bVSjhNc9G"
      },
      "execution_count": 16,
      "outputs": []
    },
    {
      "cell_type": "code",
      "source": [
        "model.summary()"
      ],
      "metadata": {
        "colab": {
          "base_uri": "https://localhost:8080/"
        },
        "id": "aqjC1mJZNh55",
        "outputId": "84b9f793-2448-4a07-850e-dbf1356905b8"
      },
      "execution_count": 17,
      "outputs": [
        {
          "output_type": "stream",
          "name": "stdout",
          "text": [
            "Model: \"sequential\"\n",
            "_________________________________________________________________\n",
            " Layer (type)                Output Shape              Param #   \n",
            "=================================================================\n",
            " dense (Dense)               (None, 8)                 120       \n",
            "                                                                 \n",
            " dense_1 (Dense)             (None, 3)                 27        \n",
            "                                                                 \n",
            "=================================================================\n",
            "Total params: 147\n",
            "Trainable params: 147\n",
            "Non-trainable params: 0\n",
            "_________________________________________________________________\n"
          ]
        }
      ]
    },
    {
      "cell_type": "code",
      "source": [
        "class_weights = {0:1, 1:6, 2:7} \n",
        "\n",
        "history = model.fit(X_train, y_train, \\\n",
        "                    batch_size = 8, epochs= 50, \\\n",
        "                    verbose=2, class_weight=class_weights, \\\n",
        "                    validation_split=0.2)"
      ],
      "metadata": {
        "colab": {
          "base_uri": "https://localhost:8080/"
        },
        "id": "QPYn_vivNkqT",
        "outputId": "ea445cd6-fa6a-405e-aff8-fd990dc81896"
      },
      "execution_count": 21,
      "outputs": [
        {
          "output_type": "stream",
          "name": "stdout",
          "text": [
            "Epoch 1/50\n",
            "170/170 - 3s - loss: 2.4136 - accuracy: 0.3603 - val_loss: 1.0437 - val_accuracy: 0.5000 - 3s/epoch - 18ms/step\n",
            "Epoch 2/50\n",
            "170/170 - 0s - loss: 2.0058 - accuracy: 0.5588 - val_loss: 0.8836 - val_accuracy: 0.6588 - 359ms/epoch - 2ms/step\n",
            "Epoch 3/50\n",
            "170/170 - 0s - loss: 1.7552 - accuracy: 0.6912 - val_loss: 0.7491 - val_accuracy: 0.7353 - 361ms/epoch - 2ms/step\n",
            "Epoch 4/50\n",
            "170/170 - 0s - loss: 1.5764 - accuracy: 0.7478 - val_loss: 0.6389 - val_accuracy: 0.7794 - 495ms/epoch - 3ms/step\n",
            "Epoch 5/50\n",
            "170/170 - 0s - loss: 1.4437 - accuracy: 0.7721 - val_loss: 0.5602 - val_accuracy: 0.8000 - 447ms/epoch - 3ms/step\n",
            "Epoch 6/50\n",
            "170/170 - 0s - loss: 1.3455 - accuracy: 0.7904 - val_loss: 0.5017 - val_accuracy: 0.8118 - 382ms/epoch - 2ms/step\n",
            "Epoch 7/50\n",
            "170/170 - 0s - loss: 1.2650 - accuracy: 0.8096 - val_loss: 0.4577 - val_accuracy: 0.8118 - 439ms/epoch - 3ms/step\n",
            "Epoch 8/50\n",
            "170/170 - 0s - loss: 1.1953 - accuracy: 0.8140 - val_loss: 0.4317 - val_accuracy: 0.8059 - 439ms/epoch - 3ms/step\n",
            "Epoch 9/50\n",
            "170/170 - 0s - loss: 1.1375 - accuracy: 0.8272 - val_loss: 0.4216 - val_accuracy: 0.8147 - 361ms/epoch - 2ms/step\n",
            "Epoch 10/50\n",
            "170/170 - 0s - loss: 1.0843 - accuracy: 0.8235 - val_loss: 0.4024 - val_accuracy: 0.8294 - 374ms/epoch - 2ms/step\n",
            "Epoch 11/50\n",
            "170/170 - 0s - loss: 1.0384 - accuracy: 0.8301 - val_loss: 0.3871 - val_accuracy: 0.8294 - 374ms/epoch - 2ms/step\n",
            "Epoch 12/50\n",
            "170/170 - 0s - loss: 0.9968 - accuracy: 0.8279 - val_loss: 0.3708 - val_accuracy: 0.8353 - 363ms/epoch - 2ms/step\n",
            "Epoch 13/50\n",
            "170/170 - 0s - loss: 0.9640 - accuracy: 0.8368 - val_loss: 0.3624 - val_accuracy: 0.8412 - 358ms/epoch - 2ms/step\n",
            "Epoch 14/50\n",
            "170/170 - 0s - loss: 0.9366 - accuracy: 0.8419 - val_loss: 0.3573 - val_accuracy: 0.8500 - 366ms/epoch - 2ms/step\n",
            "Epoch 15/50\n",
            "170/170 - 0s - loss: 0.9120 - accuracy: 0.8493 - val_loss: 0.3473 - val_accuracy: 0.8500 - 365ms/epoch - 2ms/step\n",
            "Epoch 16/50\n",
            "170/170 - 0s - loss: 0.8905 - accuracy: 0.8471 - val_loss: 0.3416 - val_accuracy: 0.8588 - 355ms/epoch - 2ms/step\n",
            "Epoch 17/50\n",
            "170/170 - 0s - loss: 0.8757 - accuracy: 0.8529 - val_loss: 0.3391 - val_accuracy: 0.8588 - 373ms/epoch - 2ms/step\n",
            "Epoch 18/50\n",
            "170/170 - 0s - loss: 0.8580 - accuracy: 0.8559 - val_loss: 0.3362 - val_accuracy: 0.8588 - 377ms/epoch - 2ms/step\n",
            "Epoch 19/50\n",
            "170/170 - 0s - loss: 0.8459 - accuracy: 0.8588 - val_loss: 0.3312 - val_accuracy: 0.8676 - 365ms/epoch - 2ms/step\n",
            "Epoch 20/50\n",
            "170/170 - 0s - loss: 0.8350 - accuracy: 0.8603 - val_loss: 0.3351 - val_accuracy: 0.8647 - 360ms/epoch - 2ms/step\n",
            "Epoch 21/50\n",
            "170/170 - 0s - loss: 0.8245 - accuracy: 0.8581 - val_loss: 0.3270 - val_accuracy: 0.8706 - 438ms/epoch - 3ms/step\n",
            "Epoch 22/50\n",
            "170/170 - 0s - loss: 0.8149 - accuracy: 0.8574 - val_loss: 0.3230 - val_accuracy: 0.8676 - 371ms/epoch - 2ms/step\n",
            "Epoch 23/50\n",
            "170/170 - 0s - loss: 0.8062 - accuracy: 0.8588 - val_loss: 0.3274 - val_accuracy: 0.8735 - 429ms/epoch - 3ms/step\n",
            "Epoch 24/50\n",
            "170/170 - 0s - loss: 0.7988 - accuracy: 0.8596 - val_loss: 0.3218 - val_accuracy: 0.8676 - 361ms/epoch - 2ms/step\n",
            "Epoch 25/50\n",
            "170/170 - 0s - loss: 0.7938 - accuracy: 0.8610 - val_loss: 0.3175 - val_accuracy: 0.8706 - 438ms/epoch - 3ms/step\n",
            "Epoch 26/50\n",
            "170/170 - 0s - loss: 0.7834 - accuracy: 0.8603 - val_loss: 0.3155 - val_accuracy: 0.8735 - 361ms/epoch - 2ms/step\n",
            "Epoch 27/50\n",
            "170/170 - 0s - loss: 0.7758 - accuracy: 0.8603 - val_loss: 0.3118 - val_accuracy: 0.8706 - 358ms/epoch - 2ms/step\n",
            "Epoch 28/50\n",
            "170/170 - 0s - loss: 0.7721 - accuracy: 0.8647 - val_loss: 0.3107 - val_accuracy: 0.8706 - 364ms/epoch - 2ms/step\n",
            "Epoch 29/50\n",
            "170/170 - 0s - loss: 0.7665 - accuracy: 0.8662 - val_loss: 0.3129 - val_accuracy: 0.8706 - 366ms/epoch - 2ms/step\n",
            "Epoch 30/50\n",
            "170/170 - 0s - loss: 0.7623 - accuracy: 0.8596 - val_loss: 0.3125 - val_accuracy: 0.8765 - 365ms/epoch - 2ms/step\n",
            "Epoch 31/50\n",
            "170/170 - 0s - loss: 0.7544 - accuracy: 0.8618 - val_loss: 0.3052 - val_accuracy: 0.8706 - 369ms/epoch - 2ms/step\n",
            "Epoch 32/50\n",
            "170/170 - 0s - loss: 0.7465 - accuracy: 0.8684 - val_loss: 0.3046 - val_accuracy: 0.8706 - 371ms/epoch - 2ms/step\n",
            "Epoch 33/50\n",
            "170/170 - 0s - loss: 0.7379 - accuracy: 0.8640 - val_loss: 0.3025 - val_accuracy: 0.8794 - 366ms/epoch - 2ms/step\n",
            "Epoch 34/50\n",
            "170/170 - 0s - loss: 0.7381 - accuracy: 0.8654 - val_loss: 0.3095 - val_accuracy: 0.8765 - 449ms/epoch - 3ms/step\n",
            "Epoch 35/50\n",
            "170/170 - 0s - loss: 0.7330 - accuracy: 0.8647 - val_loss: 0.2986 - val_accuracy: 0.8735 - 445ms/epoch - 3ms/step\n",
            "Epoch 36/50\n",
            "170/170 - 0s - loss: 0.7279 - accuracy: 0.8699 - val_loss: 0.2966 - val_accuracy: 0.8735 - 357ms/epoch - 2ms/step\n",
            "Epoch 37/50\n",
            "170/170 - 0s - loss: 0.7274 - accuracy: 0.8662 - val_loss: 0.2928 - val_accuracy: 0.8735 - 436ms/epoch - 3ms/step\n",
            "Epoch 38/50\n",
            "170/170 - 0s - loss: 0.7190 - accuracy: 0.8647 - val_loss: 0.2858 - val_accuracy: 0.8765 - 439ms/epoch - 3ms/step\n",
            "Epoch 39/50\n",
            "170/170 - 0s - loss: 0.7149 - accuracy: 0.8713 - val_loss: 0.2964 - val_accuracy: 0.8765 - 438ms/epoch - 3ms/step\n",
            "Epoch 40/50\n",
            "170/170 - 0s - loss: 0.7130 - accuracy: 0.8699 - val_loss: 0.2934 - val_accuracy: 0.8794 - 440ms/epoch - 3ms/step\n",
            "Epoch 41/50\n",
            "170/170 - 0s - loss: 0.7113 - accuracy: 0.8669 - val_loss: 0.2877 - val_accuracy: 0.8765 - 362ms/epoch - 2ms/step\n",
            "Epoch 42/50\n",
            "170/170 - 0s - loss: 0.7061 - accuracy: 0.8691 - val_loss: 0.2923 - val_accuracy: 0.8765 - 373ms/epoch - 2ms/step\n",
            "Epoch 43/50\n",
            "170/170 - 0s - loss: 0.7036 - accuracy: 0.8632 - val_loss: 0.2845 - val_accuracy: 0.8794 - 439ms/epoch - 3ms/step\n",
            "Epoch 44/50\n",
            "170/170 - 0s - loss: 0.6977 - accuracy: 0.8772 - val_loss: 0.2858 - val_accuracy: 0.8794 - 451ms/epoch - 3ms/step\n",
            "Epoch 45/50\n",
            "170/170 - 0s - loss: 0.6958 - accuracy: 0.8706 - val_loss: 0.2817 - val_accuracy: 0.8765 - 444ms/epoch - 3ms/step\n",
            "Epoch 46/50\n",
            "170/170 - 0s - loss: 0.6937 - accuracy: 0.8691 - val_loss: 0.2858 - val_accuracy: 0.8735 - 359ms/epoch - 2ms/step\n",
            "Epoch 47/50\n",
            "170/170 - 0s - loss: 0.6892 - accuracy: 0.8706 - val_loss: 0.2834 - val_accuracy: 0.8794 - 376ms/epoch - 2ms/step\n",
            "Epoch 48/50\n",
            "170/170 - 0s - loss: 0.6856 - accuracy: 0.8699 - val_loss: 0.2828 - val_accuracy: 0.8765 - 365ms/epoch - 2ms/step\n",
            "Epoch 49/50\n",
            "170/170 - 0s - loss: 0.6816 - accuracy: 0.8757 - val_loss: 0.2813 - val_accuracy: 0.8735 - 363ms/epoch - 2ms/step\n",
            "Epoch 50/50\n",
            "170/170 - 0s - loss: 0.6836 - accuracy: 0.8721 - val_loss: 0.2847 - val_accuracy: 0.8794 - 367ms/epoch - 2ms/step\n"
          ]
        }
      ]
    },
    {
      "cell_type": "code",
      "source": [
        "accuracy = history.history['accuracy'] \n",
        "validation_accuracy = history.history['val_accuracy'] \n",
        "\n",
        "plt.plot(accuracy, label='Training Set Accuracy')\n",
        "plt.plot(validation_accuracy, label='Validation Set Accuracy')\n",
        "plt.ylabel('Accuracy') \n",
        "plt.ylim([min(plt.ylim()),1]) \n",
        "plt.title('Training and Validation Accuracy Across Epochs')\n",
        "plt.legend()"
      ],
      "metadata": {
        "colab": {
          "base_uri": "https://localhost:8080/",
          "height": 298
        },
        "id": "UB8TblfSOTUB",
        "outputId": "5d1e727f-a06b-4019-e34c-b2f9b47db4d8"
      },
      "execution_count": 24,
      "outputs": [
        {
          "output_type": "execute_result",
          "data": {
            "text/plain": [
              "<matplotlib.legend.Legend at 0x7f2c1026d390>"
            ]
          },
          "metadata": {},
          "execution_count": 24
        },
        {
          "output_type": "display_data",
          "data": {
            "text/plain": [
              "<Figure size 432x288 with 1 Axes>"
            ],
            "image/png": "[encoded data removed]"
          },
          "metadata": {
            "needs_background": "light"
          }
        }
      ]
    },
    {
      "cell_type": "code",
      "source": [
        "loss = history.history['loss'] \n",
        "validation_loss = history.history['val_loss'] \n",
        "\n",
        "plt.plot(loss, label='Training Set Loss') \n",
        "plt.plot(validation_loss, label='Validation Set Loss') \n",
        "plt.ylabel('Loss') \n",
        "plt.title('Training and Validation Accuracy Across Epochs') \n",
        "plt.legend()"
      ],
      "metadata": {
        "colab": {
          "base_uri": "https://localhost:8080/",
          "height": 298
        },
        "id": "9RrVlLS8Ok9Y",
        "outputId": "1a20c96f-c5fe-4de6-b81c-bdbf78626073"
      },
      "execution_count": 25,
      "outputs": [
        {
          "output_type": "execute_result",
          "data": {
            "text/plain": [
              "<matplotlib.legend.Legend at 0x7f2c1024bcd0>"
            ]
          },
          "metadata": {},
          "execution_count": 25
        },
        {
          "output_type": "display_data",
          "data": {
            "text/plain": [
              "<Figure size 432x288 with 1 Axes>"
            ],
            "image/png": "[encoded data removed]"
          },
          "metadata": {
            "needs_background": "light"
          }
        }
      ]
    },
    {
      "cell_type": "code",
      "source": [
        "from sklearn.metrics import confusion_matrix, classification_report"
      ],
      "metadata": {
        "id": "SU38mm6qPVtH"
      },
      "execution_count": 33,
      "outputs": []
    },
    {
      "cell_type": "code",
      "source": [
        "y_pred = model.predict(X_test) \n",
        "y_pred = y_pred.argmax(axis=1)"
      ],
      "metadata": {
        "colab": {
          "base_uri": "https://localhost:8080/"
        },
        "id": "hD3esaPQOtvv",
        "outputId": "677aa75a-92e7-4d3d-80a7-1efae4eee801"
      },
      "execution_count": 34,
      "outputs": [
        {
          "output_type": "stream",
          "name": "stdout",
          "text": [
            "14/14 [==============================] - 0s 2ms/step\n"
          ]
        }
      ]
    },
    {
      "cell_type": "code",
      "source": [
        "confusion_matrix = confusion_matrix(y_test,y_pred) \n",
        "\n",
        "ax = sns.heatmap(confusion_matrix, cmap='flare',annot=True, fmt='d') \n",
        "\n",
        "plt.xlabel(\"Predicted Class\",fontsize=12) \n",
        "plt.ylabel(\"True Class\",fontsize=12) \n",
        "plt.title(\"Confusion Matrix\",fontsize=12) \n",
        "\n",
        "plt.show()"
      ],
      "metadata": {
        "colab": {
          "base_uri": "https://localhost:8080/",
          "height": 298
        },
        "id": "cNTbXb_kO0H7",
        "outputId": "1df34b01-3e1c-4261-f2de-eff3701d0ff7"
      },
      "execution_count": 35,
      "outputs": [
        {
          "output_type": "display_data",
          "data": {
            "text/plain": [
              "<Figure size 432x288 with 2 Axes>"
            ],
            "image/png": "[encoded data removed]"
          },
          "metadata": {
            "needs_background": "light"
          }
        }
      ]
    },
    {
      "cell_type": "code",
      "source": [
        "print(classification_report(y_test,y_pred))"
      ],
      "metadata": {
        "colab": {
          "base_uri": "https://localhost:8080/"
        },
        "id": "bEBc_xGuPhK9",
        "outputId": "e9479a59-145c-4665-e39e-b7017130b96c"
      },
      "execution_count": 36,
      "outputs": [
        {
          "output_type": "stream",
          "name": "stdout",
          "text": [
            "              precision    recall  f1-score   support\n",
            "\n",
            "           0       0.99      0.84      0.91       332\n",
            "           1       0.50      0.90      0.65        59\n",
            "           2       0.74      0.80      0.77        35\n",
            "\n",
            "    accuracy                           0.85       426\n",
            "   macro avg       0.74      0.85      0.77       426\n",
            "weighted avg       0.90      0.85      0.86       426\n",
            "\n"
          ]
        }
      ]
    }
  ]
}